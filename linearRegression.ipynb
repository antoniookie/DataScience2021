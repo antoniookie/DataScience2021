{
 "cells": [
  {
   "cell_type": "code",
   "execution_count": 2,
   "source": [
    "import pandas as pd\r\n",
    "\r\n",
    "dataFrame = pd.read_csv('kc_house_data.csv')\r\n",
    "print('Quantidade de linhas do Data Frame: ', len(dataFrame))\r\n",
    "print('Quantidade de colunas do Data Frame: ', len(dataFrame.columns))\r\n",
    "\r\n"
   ],
   "outputs": [
    {
     "output_type": "stream",
     "name": "stdout",
     "text": [
      "Quantidade de linhas do Data Frame:  21613\n",
      "Quantidade de colunas do Data Frame:  21\n"
     ]
    }
   ],
   "metadata": {}
  },
  {
   "cell_type": "markdown",
   "source": [
    "The code above this comment is used to check and see how many lines and columns are written in the .csv file"
   ],
   "metadata": {}
  },
  {
   "cell_type": "code",
   "execution_count": 4,
   "source": [
    "dataFrame['view'].value_counts()\r\n",
    "dataFrame['date'] = dataFrame['date']"
   ],
   "outputs": [
    {
     "output_type": "execute_result",
     "data": {
      "text/plain": [
       "0    19489\n",
       "2      963\n",
       "3      510\n",
       "1      332\n",
       "4      319\n",
       "Name: view, dtype: int64"
      ]
     },
     "metadata": {},
     "execution_count": 4
    }
   ],
   "metadata": {}
  }
 ],
 "metadata": {
  "orig_nbformat": 4,
  "language_info": {
   "name": "python",
   "version": "3.8.8",
   "mimetype": "text/x-python",
   "codemirror_mode": {
    "name": "ipython",
    "version": 3
   },
   "pygments_lexer": "ipython3",
   "nbconvert_exporter": "python",
   "file_extension": ".py"
  },
  "kernelspec": {
   "name": "python3",
   "display_name": "Python 3.8.8 64-bit ('base': conda)"
  },
  "interpreter": {
   "hash": "759326501d448b95d499ac90523cc1c1192c15d12d57f095c3ec6d41f4bfcc45"
  }
 },
 "nbformat": 4,
 "nbformat_minor": 2
}